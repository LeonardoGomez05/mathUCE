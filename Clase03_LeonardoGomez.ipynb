{
  "nbformat": 4,
  "nbformat_minor": 0,
  "metadata": {
    "colab": {
      "provenance": [],
      "toc_visible": true
    },
    "kernelspec": {
      "name": "python3",
      "display_name": "Python 3"
    },
    "language_info": {
      "name": "python"
    }
  },
  "cells": [
    {
      "cell_type": "markdown",
      "source": [
        "# **Historia de Python**\n",
        "\n",
        "![Texto alternativo](https://logodownload.org/wp-content/uploads/2019/10/python-logo-4.png)\n",
        "\n",
        "Python es un lenguaje de programación creado por Guido van Rossum a finales de los años 80 en los Países Bajos. Aquí te presento un resumen de su evolución:\n",
        "\n",
        "## **Orígenes y Desarrollo Inicial:**\n",
        "![Texto alternativo](https://th.bing.com/th/id/OIP.89qi5a7GxJ6N3pROHvwzAgHaE8?rs=1&pid=ImgDetMain)\n",
        "\n",
        "**Guido van Rossum (Creador de Python)**\n",
        "\n",
        "1. **Inicio del Desarrollo:**\n",
        "   - Guido van Rossum comenzó a trabajar en Python en diciembre de 1989 en el Centro de Matemáticas y Ciencias de la Computación (CWI) en los Países Bajos. Python fue concebido como un proyecto de hobby para mejorar un lenguaje de programación llamado ABC.\n",
        "\n",
        "2. **Primera Versión Pública:**\n",
        "   - La primera versión pública de Python, la versión 0.9.0, fue lanzada en febrero de 1991. Incluía características como manejo de excepciones, funciones y tipos de datos básicos.\n",
        "\n",
        "3. **Filosofía y Diseño:**\n",
        "   - Python se destaca por su legibilidad y simplicidad, con una sintaxis que utiliza la indentación significativa para delimitar bloques de código.\n",
        "\n",
        "## **Crecimiento y Popularidad:**\n",
        "\n",
        "1. **Años 90 y 2000:**\n",
        "   - Python ganó popularidad por su facilidad de aprendizaje y flexibilidad. Lanzamientos importantes mejoraron y ampliaron las capacidades del lenguaje.\n",
        "\n",
        "2. **Python 2 y Python 3:**\n",
        "   - En 2008, se lanzó Python 3 con mejoras en sintaxis, soporte para Unicode y optimizaciones. Python 2 se mantuvo por un tiempo antes de centrarse en Python 3.\n",
        "\n",
        "## **Actualidad:**\n",
        "\n",
        "1. **Amplia Adopción y Ecosistema:**\n",
        "   - Python es uno de los lenguajes más populares, usado en desarrollo web, científico, IA y análisis de datos.\n",
        "\n",
        "2. **Comunidad Activa y Soporte:**\n",
        "   - La comunidad global contribuye con bibliotecas y frameworks que extienden las capacidades de Python."
      ],
      "metadata": {
        "id": "AOD-fFL04uq0"
      }
    },
    {
      "cell_type": "markdown",
      "source": [
        "# **1. Entorno de Python**\n",
        "\n",
        "Python es un lenguaje de programación interpretado, de alto nivel y de propósito general. Su filosofía de diseño enfatiza la legibilidad del código con un uso notable de la indentación significativa.\n",
        "\n",
        "## **1.1 Instalación de Python**\n",
        "\n",
        "Python se puede instalar desde su [sitio oficial](https://www.python.org/downloads/), donde puedes descargar la última versión compatible con tu sistema operativo (Windows, macOS, Linux).\n",
        "\n",
        "## **1.2 IDEs (Entornos de Desarrollo Integrados)**\n",
        "\n",
        "- **IDLE:** El entorno de desarrollo integrado (IDE) por defecto que viene con la instalación de Python.\n",
        "\n",
        "![Texto alternativo](https://th.bing.com/th/id/OIP._CAVGOlaNa3rwB6qVuEVkAHaEG?w=1024&h=568&rs=1&pid=ImgDetMain)\n",
        "\n",
        "- **PyCharm:** Un IDE avanzado de JetBrains, ideal para desarrollo profesional.\n",
        "\n",
        "![Texto alternativo](https://th.bing.com/th/id/OIP.pIi0CfGswG8JLy2f1w6dLQHaHa?rs=1&pid=ImgDetMain)\n",
        "\n",
        "- **Jupyter Notebook:** Una aplicación web que permite crear y compartir documentos que contienen código en vivo, ecuaciones, visualizaciones y texto explicativo.\n",
        "\n",
        "![Texto alternativo](https://www.zirous.com/wp-content/uploads/2019/01/Jupyter-01.png)\n",
        "- **VS Code:** Un editor de código fuente desarrollado por Microsoft que soporta Python con extensiones.\n",
        "\n",
        "![Texto alternativo](https://th.bing.com/th/id/OIP.4g12a0DHzDmj1m9P7V7X8gAAAA?rs=1&pid=ImgDetMain)\n",
        "\n",
        "## **1.3 Entornos Virtuales**\n",
        "\n",
        "- **venv:** Herramienta estándar para crear entornos virtuales.\n",
        "- **virtualenv:** Herramienta más avanzada que `venv`, útil para proyectos más complejos.\n",
        "- **Conda:** Sistema de gestión de paquetes y entornos para Python y otros lenguajes.\n",
        "\n",
        "# **2. Variables en Python**\n",
        "\n",
        "Una variable en Python es un nombre que se refiere a un valor almacenado en la memoria. No es necesario declarar el tipo de variable; Python infiere el tipo a partir del valor asignado.\n",
        "\n",
        "## **2.1 Nombres de Variables**\n",
        "\n",
        "- Deben comenzar con una letra o un guion bajo (_).\n",
        "- No pueden comenzar con un número.\n",
        "- Pueden contener letras, números y guiones bajos.\n",
        "- Son sensibles a mayúsculas y minúsculas (`variable` y `Variable` son diferentes).\n"
      ],
      "metadata": {
        "id": "NT1usJ_EPzij"
      }
    },
    {
      "cell_type": "code",
      "source": [
        "mi_variable = 10\n",
        "nombre = \"Juan\"\n",
        "pi = 3.14159"
      ],
      "metadata": {
        "id": "1NMVe9SzlM2_"
      },
      "execution_count": null,
      "outputs": []
    },
    {
      "cell_type": "markdown",
      "source": [
        "## **2.2 Tipos de Variables**\n",
        "\n",
        "- **Números enteros (int):** Números sin decimales.\n",
        "- **Números de punto flotante (float):** Números con decimales.\n",
        "- **Cadenas de texto (str):** Secuencias de caracteres.\n",
        "- **Booleanos (bool):** Valores de verdad (True o False).\n"
      ],
      "metadata": {
        "id": "glyDU1u8lTv8"
      }
    },
    {
      "cell_type": "code",
      "source": [
        "edad = 25             # int\n",
        "altura = 1.75         # float\n",
        "nombre = \"María\"      # str\n",
        "es_estudiante = True  # bool"
      ],
      "metadata": {
        "id": "R1bWabDVllcF"
      },
      "execution_count": null,
      "outputs": []
    },
    {
      "cell_type": "markdown",
      "source": [
        "## **2.3 Asignación Múltiple**\n",
        "Python permite asignar múltiples variables en una sola línea."
      ],
      "metadata": {
        "id": "diC9YXeVlnve"
      }
    },
    {
      "cell_type": "code",
      "source": [
        "a, b, c = 1, 2, 3"
      ],
      "metadata": {
        "id": "1y7fhHFClut1"
      },
      "execution_count": null,
      "outputs": []
    },
    {
      "cell_type": "markdown",
      "source": [
        "# **3. Operadores en Python**\n",
        "\n",
        "Los operadores son símbolos que le dicen al intérprete que realice una operación específica.\n",
        "\n",
        "## **3.1. Operadores Aritméticos**\n",
        "Los operadores aritméticos son símbolos especiales que permiten realizar operaciones matemáticas entre variables y valores.\n",
        "\n",
        "- **Suma (+):** Añade dos operandos.\n",
        "- **Resta (-):** Sustrae el segundo operando del primero.\n",
        "- **Multiplicación (*):** Multiplica ambos operandos.\n",
        "- **División (/):** Divide el numerador por el denominador.\n",
        "- **División entera (//):** Divide y devuelve la parte entera de la división.\n",
        "- **Módulo (%):** Devuelve el resto de la división.\n",
        "- **Potenciación (****): Eleva el primer operando a la potencia del segundo."
      ],
      "metadata": {
        "id": "UAD1AdULmmb_"
      }
    },
    {
      "cell_type": "code",
      "source": [
        "x = 10\n",
        "y = 3\n",
        "print(x + y)  # 13\n",
        "print(x - y)  # 7\n",
        "print(x * y)  # 30\n",
        "print(x / y)  # 3.3333333333333335\n",
        "print(x // y) # 3\n",
        "print(x % y)  # 1\n",
        "print(x ** y) # 1000"
      ],
      "metadata": {
        "colab": {
          "base_uri": "https://localhost:8080/"
        },
        "id": "mp-bZk4Vng7I",
        "outputId": "9634894b-fe44-47d0-8d84-356695b1090b"
      },
      "execution_count": null,
      "outputs": [
        {
          "output_type": "stream",
          "name": "stdout",
          "text": [
            "13\n",
            "7\n",
            "30\n",
            "3.3333333333333335\n",
            "3\n",
            "1\n",
            "1000\n"
          ]
        }
      ]
    },
    {
      "cell_type": "markdown",
      "source": [
        "## **3.2. Operadores de Asignación**\n",
        "Los operadores de asignación se utilizan para asignar valores a variables.\n",
        "- **Asignación (=):** Asigna un valor a una variable.\n",
        "- **Asignación suma (+=):** Añade y asigna.\n",
        "- **Asignación resta (-=):** Sustrae y asigna.\n",
        "- **Asignación multiplicación (*=):** Multiplica y asigna.\n",
        "- **Asignación división (/=):** Divide y asigna.\n",
        "- **Asignación división entera (//=):** Divide enteramente y asigna.\n",
        "- **Asignación módulo (%=):** Calcula el módulo y asigna.\n",
        "- **Asignación potenciación (****=): Calcula la potencia y asigna.\n"
      ],
      "metadata": {
        "id": "LsH2K3WUoTJ1"
      }
    },
    {
      "cell_type": "code",
      "source": [
        "x = 5\n",
        "x += 3  # x = x + 3\n",
        "print(x)  # 8\n",
        "x -= 2  # x = x - 2\n",
        "print(x)  # 6\n",
        "x *= 4  # x = x * 4\n",
        "print(x)  # 24\n",
        "x /= 3  # x = x / 3\n",
        "print(x)  # 8.0"
      ],
      "metadata": {
        "colab": {
          "base_uri": "https://localhost:8080/"
        },
        "id": "e3jMrrK_omvn",
        "outputId": "b6f0304e-0ad8-4d3b-89a9-f3d2524aaf53"
      },
      "execution_count": null,
      "outputs": [
        {
          "output_type": "stream",
          "name": "stdout",
          "text": [
            "8\n",
            "6\n",
            "24\n",
            "8.0\n"
          ]
        }
      ]
    },
    {
      "cell_type": "markdown",
      "source": [
        "## **3.3. Operadores de Comparación**\n",
        "Los operadores de comparación se utilizan para comparar dos valores y devolver un resultado booleano que indica si la comparación es verdadera o falsa.\n",
        "- **Igual a (==):** Compara si dos valores son iguales.\n",
        "- **Distinto de (!=):** Compara si dos valores no son iguales.\n",
        "- **Mayor que (>):** Compara si el primer valor es mayor que el segundo.\n",
        "- **Menor que (<):** Compara si el primer valor es menor que el segundo.\n",
        "- **Mayor o igual que (>=):** Compara si el primer valor es mayor o igual que el segundo.\n",
        "- **Menor o igual que (<=):** Compara si el primer valor es menor o igual que el segundo.\n"
      ],
      "metadata": {
        "id": "HKYv_9jNpFcd"
      }
    },
    {
      "cell_type": "code",
      "source": [
        "x = 10\n",
        "y = 5\n",
        "print(x == y)  # False\n",
        "print(x != y)  # True\n",
        "print(x > y)   # True\n",
        "print(x < y)   # False\n",
        "print(x >= y)  # True\n",
        "print(x <= y)  # False"
      ],
      "metadata": {
        "colab": {
          "base_uri": "https://localhost:8080/"
        },
        "id": "Jrrdnx4mpWJ1",
        "outputId": "62fb2a50-1d45-4290-837a-f73308e97123"
      },
      "execution_count": null,
      "outputs": [
        {
          "output_type": "stream",
          "name": "stdout",
          "text": [
            "False\n",
            "True\n",
            "True\n",
            "False\n",
            "True\n",
            "False\n"
          ]
        }
      ]
    },
    {
      "cell_type": "markdown",
      "source": [
        "## **3.4. Operadores Lógicos**\n",
        "Los operadores lógicos se utilizan para combinar expresiones condicionales y devolver un resultado booleano.\n",
        "- **AND (and):** Devuelve True si ambas condiciones son True.\n",
        "- **OR (or):** Devuelve True si al menos una de las condiciones es True.\n",
        "- **NOT (not):** Invierte el valor de la condición.\n"
      ],
      "metadata": {
        "id": "LkHQoo69pZJ_"
      }
    },
    {
      "cell_type": "code",
      "source": [
        "x = True\n",
        "y = False\n",
        "print(x and y)  # False\n",
        "print(x or y)   # True\n",
        "print(not x)    # False"
      ],
      "metadata": {
        "colab": {
          "base_uri": "https://localhost:8080/"
        },
        "id": "zSGsufa7prCV",
        "outputId": "436724f7-f1bc-4de0-b089-7d09ef17ce03"
      },
      "execution_count": null,
      "outputs": [
        {
          "output_type": "stream",
          "name": "stdout",
          "text": [
            "False\n",
            "True\n",
            "False\n"
          ]
        }
      ]
    },
    {
      "cell_type": "markdown",
      "source": [
        "## **3.5. Operadores de Identidad**\n",
        "Los operadores de identidad se utilizan para verificar si dos variables o expresiones apuntan al mismo objeto en la memoria.\n",
        "- **is:** Devuelve True si ambos operandos se refieren al mismo objeto.\n",
        "- **is not:** Devuelve True si ambos operandos no se refieren al mismo objeto."
      ],
      "metadata": {
        "id": "Y23GwwM4p5Ue"
      }
    },
    {
      "cell_type": "code",
      "source": [
        "x = [\"manzana\", \"banana\"]\n",
        "y = [\"manzana\", \"banana\"]\n",
        "z = x\n",
        "print(x is z)      # True\n",
        "print(x is y)      # False\n",
        "print(x == y)      # True\n",
        "print(x is not y)  # True"
      ],
      "metadata": {
        "colab": {
          "base_uri": "https://localhost:8080/"
        },
        "id": "VJ_gPnfRrMNV",
        "outputId": "c29cca44-12e3-4b1e-bb82-b4b4fac59425"
      },
      "execution_count": null,
      "outputs": [
        {
          "output_type": "stream",
          "name": "stdout",
          "text": [
            "True\n",
            "False\n",
            "True\n",
            "True\n"
          ]
        }
      ]
    },
    {
      "cell_type": "markdown",
      "source": [
        "## **3.6. Operadores de Pertenencia**\n",
        "Los operadores de pertenencia se utilizan para verificar si un valor o variable está presente dentro de una secuencia, como una cadena, lista, tupla, o diccionario.\n",
        "- **in:** Devuelve True si el valor especificado se encuentra en la secuencia.\n",
        "- **not in:** Devuelve True si el valor especificado no se encuentra en la secuencia."
      ],
      "metadata": {
        "id": "UyIWx1nBrU9Y"
      }
    },
    {
      "cell_type": "code",
      "source": [
        "frutas = [\"manzana\", \"banana\", \"cereza\"]\n",
        "print(\"banana\" in frutas)      # True\n",
        "print(\"uva\" not in frutas)     # True"
      ],
      "metadata": {
        "colab": {
          "base_uri": "https://localhost:8080/"
        },
        "id": "_ke-NAjlrY4A",
        "outputId": "fe7375c1-1a68-4132-ecbb-304bf149d1f0"
      },
      "execution_count": null,
      "outputs": [
        {
          "output_type": "stream",
          "name": "stdout",
          "text": [
            "True\n",
            "True\n"
          ]
        }
      ]
    },
    {
      "cell_type": "markdown",
      "source": [
        "## **4. Comentarios en Python**\n",
        "\n",
        "Los comentarios se utilizan para explicar el código y no son ejecutados por el intérprete.\n",
        "\n",
        "- **Comentario de una sola línea:** Comienza con #.\n",
        "- **Comentario de múltiples líneas:** Encerrado en tres comillas dobles (\"\"\").\n"
      ],
      "metadata": {
        "id": "6LBoyVQ2rqHA"
      }
    },
    {
      "cell_type": "code",
      "source": [
        "# Esto es un comentario de una sola línea\n",
        "\"\"\"\n",
        "Esto es un comentario\n",
        "de múltiples líneas\n",
        "\"\"\""
      ],
      "metadata": {
        "id": "R8gnNcDUr1fY"
      },
      "execution_count": null,
      "outputs": []
    },
    {
      "cell_type": "markdown",
      "source": [
        "## **5. Tratamiento de Datos**\n",
        "Python permite interactuar con el usuario mediante entrada desde el teclado y salida hacia la pantalla.\n",
        "\n",
        "**Tratamiento de Datos:**\n",
        "Python proporciona varias formas de manipular y trabajar con datos, incluyendo operaciones sobre estructuras de datos, conversión entre tipos de datos, y manejo de archivos.\n",
        "\n",
        "**Operaciones sobre Estructuras de Datos:** Como listas, tuplas, diccionarios y conjuntos.\n",
        "\n",
        "**Conversión entre Tipos de Datos:** Utiliza funciones como int(), float(), str(), etc.\n",
        "\n",
        "**Manejo de Archivos:** Abre, lee, escribe y cierra archivos usando funciones como open(), read(), write(), close().\n"
      ],
      "metadata": {
        "id": "K3rpDgVcBrlT"
      }
    },
    {
      "cell_type": "code",
      "source": [
        "# Tratamiento de Datos en Python\n",
        "\n",
        "# Operaciones sobre Estructuras de Datos: listas, tuplas, diccionarios y conjuntos.\n",
        "# Ejemplo con listas y diccionarios\n",
        "\n",
        "# Creación de una lista de estudiantes con sus calificaciones\n",
        "estudiantes = [\n",
        "    {'nombre': 'Juan', 'edad': 25, 'calificaciones': [8, 7, 9]},\n",
        "    {'nombre': 'Ana', 'edad': 24, 'calificaciones': [7, 8, 8]},\n",
        "    {'nombre': 'Pedro', 'edad': 26, 'calificaciones': [9, 9, 10]},\n",
        "]\n",
        "\n",
        "# Mostrar información de los estudiantes\n",
        "print(\"Lista de Estudiantes:\")\n",
        "for estudiante in estudiantes:\n",
        "    print(f\"Nombre: {estudiante['nombre']}, Edad: {estudiante['edad']}, Calificaciones: {estudiante['calificaciones']}\")\n",
        "\n",
        "# Conversión entre Tipos de Datos: int(), float(), str(), etc.\n",
        "# Ejemplo de conversión de tipos de datos\n",
        "\n",
        "numero_str = \"10\"\n",
        "numero_int = int(numero_str)\n",
        "numero_float = float(numero_str)\n",
        "\n",
        "print(\"\\nConversión entre Tipos de Datos:\")\n",
        "print(f\"Original: {numero_str}, Entero: {numero_int}, Flotante: {numero_float}\")\n",
        "\n",
        "# Manejo de Archivos: Abre, lee, escribe y cierra archivos usando funciones como open(), read(), write(), close().\n",
        "# Ejemplo de manejo básico de archivos\n",
        "\n",
        "# Escribir información de los estudiantes en un archivo\n",
        "with open('estudiantes.txt', 'w') as archivo:\n",
        "    archivo.write(\"Lista de Estudiantes:\\n\")\n",
        "    for estudiante in estudiantes:\n",
        "        archivo.write(f\"Nombre: {estudiante['nombre']}, Edad: {estudiante['edad']}, Calificaciones: {estudiante['calificaciones']}\\n\")\n",
        "\n",
        "# Leer información del archivo y mostrarlo por pantalla\n",
        "print(\"\\nDatos Guardados en Archivo:\")\n",
        "with open('estudiantes.txt', 'r') as archivo:\n",
        "    contenido = archivo.read()\n",
        "    print(contenido)\n"
      ],
      "metadata": {
        "colab": {
          "base_uri": "https://localhost:8080/"
        },
        "id": "7CPPt-rUCCWd",
        "outputId": "a4946b37-13e2-460b-a50e-4e17742d1b6c"
      },
      "execution_count": null,
      "outputs": [
        {
          "output_type": "stream",
          "name": "stdout",
          "text": [
            "Lista de Estudiantes:\n",
            "Nombre: Juan, Edad: 25, Calificaciones: [8, 7, 9]\n",
            "Nombre: Ana, Edad: 24, Calificaciones: [7, 8, 8]\n",
            "Nombre: Pedro, Edad: 26, Calificaciones: [9, 9, 10]\n",
            "\n",
            "Conversión entre Tipos de Datos:\n",
            "Original: 10, Entero: 10, Flotante: 10.0\n",
            "\n",
            "Datos Guardados en Archivo:\n",
            "Lista de Estudiantes:\n",
            "Nombre: Juan, Edad: 25, Calificaciones: [8, 7, 9]\n",
            "Nombre: Ana, Edad: 24, Calificaciones: [7, 8, 8]\n",
            "Nombre: Pedro, Edad: 26, Calificaciones: [9, 9, 10]\n",
            "\n"
          ]
        }
      ]
    },
    {
      "cell_type": "markdown",
      "source": [
        "## **6. Estructuras de Control**\n",
        "Python utiliza estructuras de control para dirigir el flujo de ejecución del programa.\n",
        "\n",
        "## **6.1 Control de Flujo Condicional**\n",
        "El control de flujo condicional se realiza principalmente a través de las estructuras if, elif (opcional), y else.\n",
        "\n",
        "***if:*** Se utiliza para ejecutar un bloque de código si una condición es verdadera.\n",
        "\n",
        "***elif:*** Opcionalmente se usa después de un if para verificar múltiples condiciones si la condición anterior no es verdadera.\n",
        "\n",
        "***else:*** Opcionalmente se usa después de if o elif para ejecutar un bloque de código si ninguna de las condiciones anteriores es verdadera."
      ],
      "metadata": {
        "id": "WgvsLH2wwRPJ"
      }
    },
    {
      "cell_type": "code",
      "source": [
        "# Ejemplo de estructuras de control (condicionales) en Python\n",
        "\n",
        "# Definición de función para determinar si un número es par o impar\n",
        "def determinar_paridad(numero):\n",
        "    \"\"\"\n",
        "    Esta función determina si un número es par o impar.\n",
        "    \"\"\"\n",
        "    if numero % 2 == 0:\n",
        "        print(f\"El número {numero} es par.\")\n",
        "    else:\n",
        "        print(f\"El número {numero} es impar.\")\n",
        "\n",
        "# Ejemplos de uso de la función\n",
        "determinar_paridad(10)  # Salida esperada: El número 10 es par.\n",
        "determinar_paridad(7)   # Salida esperada: El número 7 es impar."
      ],
      "metadata": {
        "colab": {
          "base_uri": "https://localhost:8080/"
        },
        "id": "FLu_y7agxmCK",
        "outputId": "957e682a-75f6-4a83-c7d5-a7c98de1f6e8"
      },
      "execution_count": null,
      "outputs": [
        {
          "output_type": "stream",
          "name": "stdout",
          "text": [
            "El número 10 es par.\n",
            "El número 7 es impar.\n"
          ]
        }
      ]
    },
    {
      "cell_type": "markdown",
      "source": [
        "## **6.2. Bucles (for, while)**\n",
        "Los bucles permiten ejecutar un bloque de código varias veces. Los dos tipos principales de bucles son for y while.\n",
        "\n",
        "***Bucle for***\n",
        "\n",
        "El bucle for se utiliza para iterar sobre una secuencia de elementos (como listas o rangos). Por ejemplo:"
      ],
      "metadata": {
        "id": "f_gtemjfyQQK"
      }
    },
    {
      "cell_type": "code",
      "source": [
        "# Ejemplo de bucle for\n",
        "for i in range(5):\n",
        "    print(i)"
      ],
      "metadata": {
        "colab": {
          "base_uri": "https://localhost:8080/"
        },
        "id": "iCEKUC74yrWp",
        "outputId": "9ce6fa51-ff1f-4d83-83c4-b00db4fe2f9c"
      },
      "execution_count": null,
      "outputs": [
        {
          "output_type": "stream",
          "name": "stdout",
          "text": [
            "0\n",
            "1\n",
            "2\n",
            "3\n",
            "4\n"
          ]
        }
      ]
    },
    {
      "cell_type": "markdown",
      "source": [
        "***Bucle while***\n",
        "\n",
        "El bucle while se utiliza para repetir un bloque de código mientras una condición sea verdadera. Por ejemplo:"
      ],
      "metadata": {
        "id": "sUtWTb2eywSu"
      }
    },
    {
      "cell_type": "code",
      "source": [
        "contador = 0\n",
        "\n",
        "while contador < 5:\n",
        "    print(contador)\n",
        "    contador += 1"
      ],
      "metadata": {
        "colab": {
          "base_uri": "https://localhost:8080/"
        },
        "id": "oP-hf76cy97t",
        "outputId": "c852c696-c7d5-415b-b13c-3ee7d7da7016"
      },
      "execution_count": null,
      "outputs": [
        {
          "output_type": "stream",
          "name": "stdout",
          "text": [
            "0\n",
            "1\n",
            "2\n",
            "3\n",
            "4\n"
          ]
        }
      ]
    },
    {
      "cell_type": "markdown",
      "source": [
        "## **7. Funciones**\n",
        "Las funciones son bloques de código reutilizables que realizan una tarea específica. Ayudan a organizar el código y a evitar repeticiones.\n",
        "\n",
        "*   **Definición de Funciones:** Se define utilizando la palabra clave ***def***, seguida del nombre de la función y paréntesis ( ) que pueden contener parámetros.\n",
        "\n",
        "*   **Parámetros:** Pueden ser opcionales, con valores por defecto y también se pueden pasar como argumentos posicionales o palabras clave.\n",
        "\n",
        "*   **Retorno de Valores:** Utiliza la declaración ***return*** para devolver valores desde la función."
      ],
      "metadata": {
        "id": "RKCVj2N6zXXt"
      }
    },
    {
      "cell_type": "code",
      "source": [
        "def suma(a, b):\n",
        "    return a + b\n",
        "\n",
        "resultado = suma(3, 5)   # Llama a la función con argumentos 3 y 5\n",
        "print(resultado)         # Resultado: 8"
      ],
      "metadata": {
        "colab": {
          "base_uri": "https://localhost:8080/"
        },
        "id": "3sJfXsqJzcZP",
        "outputId": "eed5f608-3cf5-4144-9450-50e8134118d5"
      },
      "execution_count": null,
      "outputs": [
        {
          "output_type": "stream",
          "name": "stdout",
          "text": [
            "8\n"
          ]
        }
      ]
    },
    {
      "cell_type": "markdown",
      "source": [
        "## **8.Manejo de Excepciones**\n",
        "Python permite manejar errores y excepciones con bloques try-except, facilitando el control de situaciones excepcionales."
      ],
      "metadata": {
        "id": "z0Ejw1YRztI1"
      }
    },
    {
      "cell_type": "code",
      "source": [
        "# Ejemplo de manejo de excepciones\n",
        "try:\n",
        "    resultado = 10 / 0\n",
        "except ZeroDivisionError:\n",
        "    print(\"Error: división por cero\")"
      ],
      "metadata": {
        "colab": {
          "base_uri": "https://localhost:8080/"
        },
        "id": "J8gDuD24zySY",
        "outputId": "09264092-f5d1-46fe-838a-fa15a4179abd"
      },
      "execution_count": null,
      "outputs": [
        {
          "output_type": "stream",
          "name": "stdout",
          "text": [
            "Error: división por cero\n"
          ]
        }
      ]
    },
    {
      "cell_type": "markdown",
      "source": [
        "##**9. Colecciones de Datos**\n",
        "\n",
        "Python ofrece diversas estructuras de datos para organizar y manipular colecciones de valores.\n",
        "\n",
        "## **9.1. Listas**\n",
        "Las listas son colecciones ordenadas y modificables de elementos."
      ],
      "metadata": {
        "id": "h27kjcd5z6A5"
      }
    },
    {
      "cell_type": "code",
      "source": [
        "# Ejemplo de lista\n",
        "numeros = [1, 2, 3, 4, 5]\n",
        "print(numeros[0])  # Acceso al primer elemento"
      ],
      "metadata": {
        "colab": {
          "base_uri": "https://localhost:8080/"
        },
        "id": "AO_lYoKh0DS5",
        "outputId": "12dc33f9-db7a-4c07-f07f-3c8f08d8e3cf"
      },
      "execution_count": null,
      "outputs": [
        {
          "output_type": "stream",
          "name": "stdout",
          "text": [
            "1\n"
          ]
        }
      ]
    },
    {
      "cell_type": "markdown",
      "source": [
        "## **9.2. Tuplas**\n",
        "Las tuplas son colecciones ordenadas e inmutables de elementos."
      ],
      "metadata": {
        "id": "ZhjGEPbz0MfJ"
      }
    },
    {
      "cell_type": "code",
      "source": [
        "# Ejemplo de tupla\n",
        "coordenadas = (10, 20)\n",
        "print(coordenadas[1])  # Acceso al segundo elemento"
      ],
      "metadata": {
        "colab": {
          "base_uri": "https://localhost:8080/"
        },
        "id": "_7P43z-n0QfR",
        "outputId": "1b5c65b5-5beb-475e-93b1-2af0c70625b1"
      },
      "execution_count": null,
      "outputs": [
        {
          "output_type": "stream",
          "name": "stdout",
          "text": [
            "20\n"
          ]
        }
      ]
    },
    {
      "cell_type": "markdown",
      "source": [
        "## **9.3. Diccionarios**\n",
        "Los diccionarios son colecciones no ordenadas de pares clave-valor."
      ],
      "metadata": {
        "id": "Y27ovZpN0ZLm"
      }
    },
    {
      "cell_type": "code",
      "source": [
        "# Ejemplo de diccionario\n",
        "persona = {\"nombre\": \"Juan\", \"edad\": 30}\n",
        "print(persona[\"nombre\"])  # Acceso al valor de la clave \"nombre\""
      ],
      "metadata": {
        "colab": {
          "base_uri": "https://localhost:8080/"
        },
        "id": "pa4eb8zb0jmB",
        "outputId": "3495a966-138f-4f8a-cccb-ead930c3e3a4"
      },
      "execution_count": null,
      "outputs": [
        {
          "output_type": "stream",
          "name": "stdout",
          "text": [
            "Juan\n"
          ]
        }
      ]
    },
    {
      "cell_type": "markdown",
      "source": [
        "## **9.4. Conjuntos**\n",
        "Los conjuntos son colecciones no ordenadas de elementos únicos."
      ],
      "metadata": {
        "id": "OlOyGKrp0pqN"
      }
    },
    {
      "cell_type": "code",
      "source": [
        "# Ejemplo de conjunto\n",
        "colores = {\"rojo\", \"verde\", \"azul\"}\n",
        "colores.add(\"amarillo\")  # Agregar un elemento al conjunto"
      ],
      "metadata": {
        "id": "-4HIWtD-0u4W"
      },
      "execution_count": null,
      "outputs": []
    },
    {
      "cell_type": "code",
      "source": [
        "# Ejemplo de entrada y salida de datos\n",
        "nombre = input(\"Ingrese su nombre: \")\n",
        "print(\"Hola,\", nombre)"
      ],
      "metadata": {
        "colab": {
          "base_uri": "https://localhost:8080/"
        },
        "id": "12OnNY4e1_ZM",
        "outputId": "3f503f85-5963-46c0-936e-d8dca3f27af7"
      },
      "execution_count": null,
      "outputs": [
        {
          "output_type": "stream",
          "name": "stdout",
          "text": [
            "Ingrese su nombre: Leonardo\n",
            "Hola, Leonardo\n"
          ]
        }
      ]
    },
    {
      "cell_type": "markdown",
      "source": [
        "## **10. Importación de Módulos**\n",
        "Python tiene una biblioteca estándar extensa y permite importar módulos externos para ampliar su funcionalidad."
      ],
      "metadata": {
        "id": "QqxiP2CN2GyH"
      }
    },
    {
      "cell_type": "code",
      "source": [
        "# Ejemplo de importación de módulos\n",
        "import math\n",
        "\n",
        "print(math.sqrt(25))  # Raíz cuadrada utilizando el módulo math"
      ],
      "metadata": {
        "colab": {
          "base_uri": "https://localhost:8080/"
        },
        "id": "k4vFRSxl3Ond",
        "outputId": "1067b181-9a9b-4c20-ba59-8b10548c04a6"
      },
      "execution_count": null,
      "outputs": [
        {
          "output_type": "stream",
          "name": "stdout",
          "text": [
            "5.0\n"
          ]
        }
      ]
    },
    {
      "cell_type": "markdown",
      "source": [
        "# **Aplicaciones de Python**\n",
        "\n",
        "1. **Desarrollo web**: Frameworks como Django y Flask son populares para construir aplicaciones web y APIs.\n",
        "\n",
        "2. **Análisis de datos**: Bibliotecas como Pandas, NumPy y Matplotlib son ampliamente utilizadas en análisis y visualización de datos.\n",
        "\n",
        "3. **Inteligencia artificial y machine learning**: Bibliotecas como TensorFlow, Keras y PyTorch son esenciales para el desarrollo de modelos de machine learning y deep learning.\n",
        "\n",
        "4. **Automatización y scripting**: Python es excelente para escribir scripts y automatizar tareas en sistemas operativos y aplicaciones.\n",
        "\n",
        "5. **Ciencia e ingeniería**: Se utiliza en simulaciones, cálculos numéricos y procesamiento de señales debido a su capacidad para manejar operaciones matemáticas complejas.\n",
        "\n",
        "6. **Desarrollo de juegos**: Pygame es una biblioteca popular para el desarrollo de juegos en Python.\n",
        "\n",
        "7. **Aplicaciones de escritorio**: Con herramientas como Tkinter y PyQt, Python se usa para crear aplicaciones de interfaz gráfica de usuario (GUI).\n",
        "\n",
        "8. **Desarrollo web scraping**: Bibliotecas como BeautifulSoup facilitan la extracción de datos de páginas web.\n"
      ],
      "metadata": {
        "id": "hXeXnqQCFzny"
      }
    },
    {
      "cell_type": "markdown",
      "source": [
        "# **Principios de demostración matemática**\n",
        "## **Axiomas y Postulados**\n",
        "Son proposiciones fundamentales que se aceptan como verdaderas sin necesidad de demostración. Estos son los puntos de partida desde los cuales se derivan todos los demás resultados en una teoría matemática.\n",
        "\n",
        "Por ejemplo, en geometría euclidiana, los postulados de Euclides establecen las reglas básicas sobre líneas rectas, puntos y planos.\n",
        "\n",
        "## **Definiciones**\n",
        "En matemáticas, las definiciones son fundamentales para establecer el significado preciso de los términos utilizados.\n",
        "\n",
        "Por ejemplo, la definición de número primo establece que es un número natural mayor que 1 que no tiene divisores positivos distintos de 1 y él mismo.\n",
        "\n",
        "## **Teoremas**\n",
        "Son proposiciones que pueden demostrarse a partir de axiomas, postulados y otros teoremas previamente demostrados. Por ejemplo, el teorema de Pitágoras en geometría establece que en un triángulo rectángulo, el cuadrado de la hipotenusa es igual a la suma de los cuadrados de los otros dos lados.\n",
        "\n",
        "## **Demostraciones Directas**\n",
        "Es el tipo más común de demostración matemática, donde se presenta una secuencia lógica de pasos desde premisas conocidas hasta la conclusión deseada.\n",
        "\n",
        "Por ejemplo, para demostrar que la suma de dos números pares es un número par, consideramos dos números pares \\(a\\) y \\(b\\):\n",
        "\n",
        "Si $a = 2m$ y $b = 2n$, entonces $a + b = 2m + 2n = 2(m + n)$, que es par.\n",
        "\n",
        "## **Demostraciones por Contradicción (Reductio ad Absurdum)**\n",
        "Este método se utiliza asumiendo lo contrario de lo que se quiere demostrar y mostrando que esta suposición lleva a una contradicción.\n",
        "\n",
        "Por ejemplo, para demostrar que $\\sqrt{2}$ es irracional, suponemos que $\\sqrt{2}$ es racional, es decir, $\\sqrt{2} = \\frac{p}{q}$ donde $p$ y $q$ son enteros sin factores comunes. Entonces $2 = \\frac{p^2}{q^2}$, lo que lleva a una contradicción porque $p^2$ debe ser par.\n",
        "\n",
        "## **Demostraciones por Inducción Matemática**\n",
        "Se utiliza para demostrar afirmaciones sobre números naturales. Consiste en dos pasos: base inductiva y paso inductivo.\n",
        "\n",
        "Por ejemplo, para demostrar que la suma de los primeros $n$ números naturales es $\\frac{n(n+1)}{2}$:\n",
        "\n",
        "- **Base Inductiva:** Para $n = 1$, la suma es $\\frac{1(1+1)}{2} = 1$.\n",
        "- **Paso Inductivo:** Supongamos que la afirmación es cierta para $n = k$, es decir, la suma de los primeros $k$ números naturales es $\\frac{k(k+1)}{2}$. Demostramos que es cierto para $n = k + 1$:\n",
        "\n",
        "$ \\text{Suma de los primeros } k+1 \\text{ números} = \\frac{(k+1)(k+2)}{2}$\n",
        "\n",
        "## **Demostraciones por Contrapositiva**\n",
        "Este método demuestra una declaración condicional demostrando su contrapositiva.\n",
        "\n",
        "Por ejemplo, para demostrar que si $a$ y $b$ son números enteros y $ab$ es impar, entonces ambos $a$ y $b$ deben ser impares, se demuestra que si $a$ o $b$ es par, entonces $ab$ no puede ser impar.\n",
        "\n",
        "## **Demostraciones por Exhaustividad (Casos)**\n",
        "Este método divide el problema en casos más manejables y se demuestra cada caso por separado, cubriendo así todas las posibilidades.\n",
        "\n",
        "Por ejemplo, para demostrar que todo número natural mayor que 1 es primo o tiene un divisor primo, se consideran dos casos: el número es primo o el número tiene un divisor primo.\n"
      ],
      "metadata": {
        "id": "8xwMAQ9KF95i"
      }
    },
    {
      "cell_type": "markdown",
      "source": [
        "# **Aplicaciones de los Principios de Demostración Matemática**\n",
        "\n",
        "Los principios de demostración matemática tienen numerosas aplicaciones en diversos campos de las matemáticas y más allá. Aquí tienes algunas aplicaciones destacadas:\n",
        "\n",
        "1. **Geometría y Trigonometría** 📐: Los teoremas geométricos, como el teorema de Pitágoras y el teorema de Tales, se demuestran utilizando métodos de demostración matemática. Estos teoremas son fundamentales en la resolución de problemas geométricos y en el diseño de estructuras.\n",
        "\n",
        "![Texto alternativo](https://th.bing.com/th/id/R.00c131c34ec707914756a0b4f8981b29?rik=7inInTLNrKKPaw&pid=ImgRaw&r=0)\n",
        "\n",
        "2. **Álgebra y Teoría de Números** 🔢 : La demostración de propiedades de los números enteros, como la existencia de números primos infinitos o la factorización de números compuestos, utiliza métodos inductivos, por contradicción y otras técnicas de demostración.\n",
        "\n",
        "![Texto alternativo](https://c8.alamy.com/compes/hg359g/calculo-algebra-matematicas-methematics-concepto-numeros-hg359g.jpg)\n",
        "\n",
        "3. **Análisis Matemático**🧮: En el cálculo y el análisis matemático, la demostración de teoremas sobre límites, continuidad, derivadas e integrales es esencial para fundamentar el conocimiento y aplicaciones en ciencias e ingeniería.\n",
        "\n",
        "![Texto alternativo](https://img.freepik.com/vetores-premium/materia-da-escola-de-matematica-pessoas-que-estudam-matematica-algebra-aritmetica-matematicos-usam-formulas-cientificas-e-diagramas-para-novos-calculos-analise-matematica-calculo-de-conjecturas-curso-de-matematica_458444-1578.jpg?w=1800)\n",
        "\n",
        "\n",
        "4. **Informática y Ciencias de la Computación** 💻: La teoría de la computación se basa en principios matemáticos demostrados para garantizar la corrección y eficiencia de algoritmos y estructuras de datos.\n",
        "\n",
        "![Texto alternativo](https://th.bing.com/th/id/OIP.zretW-FuJioWNuYA7yjmVQHaFa?rs=1&pid=ImgDetMain)\n",
        "\n",
        "\n",
        "5. **Física y Ciencias Naturales** 🌌: En física teórica y aplicada, las leyes y principios fundamentales se derivan y demuestran utilizando métodos matemáticos rigurosos. Por ejemplo, en mecánica clásica, la ley de conservación de la energía se puede demostrar mediante cálculos y argumentos matemáticos.\n",
        "\n",
        "![Texto alternativo](https://www.aprendihoy.com/wp-content/uploads/2020/12/physics-image-featured.png)\n",
        "\n",
        "\n",
        "6. **Economía y Finanzas** 💰: En análisis financiero y económico, las demostraciones matemáticas son utilizadas para fundamentar modelos y teoremas sobre comportamientos económicos, optimización de recursos y predicciones financieras.\n",
        "\n",
        "![Texto alternativo](https://th.bing.com/th/id/R.a0050aa14d340547f0cfdf3f80d60f07?rik=2wwl1K1PAqBP0A&riu=http%3a%2f%2fcursodeadministraciondeempresas.com%2fwp-content%2fuploads%2f2020%2f09%2fFinanzas.jpeg&ehk=DbAvgn6p7cX3ODnVGQ1Iel5uRzkM3oy70nVUnHe9nZI%3d&risl=&pid=ImgRaw&r=0)\n",
        "\n",
        "\n",
        "7. **Lógica y Filosofía** 🤔: En la filosofía y la lógica matemática, las demostraciones formales son cruciales para establecer la validez de argumentos y teorías.\n",
        "\n",
        "![Texto alternativo](https://th.bing.com/th/id/R.a633fe8fd1c7e758302c33b4792796a3?rik=YysrWsh8X11kpQ&riu=http%3a%2f%2fwww.sirtin.fr%2fsirtin%2fwp-content%2fuploads%2f130425.jpg&ehk=BMsDbBewakjgfpN7u%2f2uK5%2fkSUN5GvEqYyFWd%2bEq5iM%3d&risl=&pid=ImgRaw&r=0)\n",
        "\n",
        "8. **Educación y Didáctica** 🎒: En el ámbito educativo, las demostraciones matemáticas no solo enseñan conceptos fundamentales, sino que también desarrollan habilidades críticas de razonamiento y resolución de problemas en los estudiantes.\n",
        "\n",
        "![Texto alternativo](https://th.bing.com/th/id/OIP.CJT-8zs7py7Mpg_kejM_dAHaE8?rs=1&pid=ImgDetMain)\n",
        "\n",
        "Estas aplicaciones muestran cómo los principios de demostración matemática son esenciales no solo para la matemática pura, sino también para campos aplicados y científicos donde se requiere precisión, rigurosidad y validación de teoremas y leyes fundamentales."
      ],
      "metadata": {
        "id": "CWlKW61gP7p1"
      }
    },
    {
      "cell_type": "markdown",
      "source": [
        "## **Cardinalidad en Conjuntos**🧮\n",
        "\n",
        "La cardinalidad de un conjunto es el número de elementos distintos que contiene. Se denota usualmente con el símbolo $|A|$, donde $A$ es el conjunto. Algunos puntos clave incluyen:\n",
        "\n",
        "1. **Cardinalidad Finita:**\n",
        "   - Se refiere a conjuntos que tienen un número finito de elementos que se pueden contar.\n",
        "   - Ejemplo: El conjunto $A$ = {$a, b, c$} tiene una cardinalidad finita de 3, por lo tanto, $|A| = 3$.\n",
        "\n",
        "2. **Cardinalidad Infinita:**\n",
        "   - Se refiere a conjuntos que contienen una cantidad infinita de elementos.\n",
        "   - Ejemplo: El conjunto de todos los números naturales $\\mathbb{N} = \\{ 1, 2, 3, 4, \\ldots \\} $ tiene una cardinalidad infinita.\n",
        "\n",
        "![Texto alternativo](https://4.bp.blogspot.com/-bpTapyIMEXk/Wz4veXwIyNI/AAAAAAAACnI/IufvZESB5T0zQzcJL1cyf7XgEZjBZhciQCLcBGAs/s1600/CARDINALIDAD%252BDE%252BUN%252BCONJUNTO.jpg)\n",
        "\n",
        "## **Métodos para Determinar Cardinalidad**📊\n",
        "\n",
        "1. **Enumeración Directa:**\n",
        "   - Para conjuntos finitos, se cuenta el número de elementos directamente.\n",
        "   - Ejemplo: El conjunto $A$ = {$rojo, azul, verde$} tiene $|A| = 3$.\n",
        "\n",
        "2. **Correspondencia Biyectiva:**\n",
        "   - Para conjuntos finitos o infinitos, se establece una relación uno a uno (biyectiva) entre los elementos de dos conjuntos.\n",
        "   - Ejemplo: Los conjuntos {$a, b, c$} y {$1, 2, 3$} tienen la misma cardinalidad porque se pueden relacionar biyectivamente $(a↔1, b↔2, c↔3)$.\n",
        "\n",
        "3. **Comparación con Conjuntos Conocidos:**\n",
        "   - Se puede determinar la cardinalidad comparando con conjuntos cuya cardinalidad se conoce.\n",
        "   - Ejemplo: La cardinalidad de los números enteros $\\mathbb{Z}$ es la misma que la de los números naturales $\\mathbb{N}$, ya que se puede establecer una correspondencia biyectiva entre ellos.\n",
        "\n",
        "### **Aplicaciones de la Cardinalidad**🌐\n",
        "\n",
        "1. **Teoría de Conjuntos y Fundamentos Matemáticos:**\n",
        "   - La cardinalidad es crucial en la clasificación y comparación de conjuntos en términos de su tamaño o cantidad de elementos.\n",
        "   - Ayuda a establecer la existencia y naturaleza de diferentes tipos de infinitos, como $ \\aleph_0$ $(aleph-cero)$ para los números naturales y $\\mathfrak{c}$ (cardinalidad del continuo) para los números reales.\n",
        "\n",
        "2. **Análisis y Topología:**\n",
        "   - En topología, la cardinalidad se utiliza para estudiar y clasificar diferentes tipos de conjuntos topológicos, como espacios compactos y conexos.\n",
        "   - En análisis matemático, la cardinalidad se relaciona con la medida de conjuntos y la teoría de la medida, donde conjuntos de diferentes cardinalidades pueden tener propiedades y comportamientos distintos.\n",
        "\n",
        "3. **Informática y Teoría de la Computación:**\n",
        "   - En informática, la cardinalidad es crucial para el análisis de algoritmos y la complejidad computacional.\n",
        "   - En teoría de la computación, la cardinalidad se utiliza para clasificar y estudiar diferentes tipos de problemas y conjuntos de datos, desde conjuntos finitos hasta estructuras de datos infinitas o potencialmente infinitas.\n",
        "\n",
        "4. **Criptografía y Seguridad Informática:**\n",
        "   - En criptografía, la cardinalidad de conjuntos finitos o infinitos se utiliza para evaluar la seguridad y la resistencia de los sistemas criptográficos.\n",
        "   - La cardinalidad de conjuntos de claves y espacios de búsqueda es fundamental para determinar la complejidad de los algoritmos de ataque y la robustez de las técnicas criptográficas utilizadas.\n",
        "\n",
        "5. **Modelado y Probabilidad:**\n",
        "   - En estadística y teoría de la probabilidad, la cardinalidad de los espacios muestrales y los eventos es esencial para calcular probabilidades y analizar la distribución de variables aleatorias.\n",
        "   - En modelado matemático, la cardinalidad se utiliza para definir y analizar la complejidad de modelos y sistemas, así como para determinar la viabilidad y eficiencia de métodos de simulación y predicción.\n",
        "\n",
        "6. **Lógica y Filosofía de las Matemáticas:**\n",
        "   - En lógica matemática y filosofía de las matemáticas, la cardinalidad se utiliza para estudiar la consistencia y la completitud de sistemas formales, así como para explorar cuestiones fundamentales sobre la naturalez\n",
        "\n",
        "Estas aplicaciones demuestran la importancia y la versatilidad del concepto de cardinalidad en diversos campos de las matemáticas y disciplinas relacionadas. Desde el análisis de conjuntos simples hasta la comprensión de la complejidad computacional y la seguridad informática, la cardinalidad desempeña un papel central en la estructura y el estudio de sistemas matemáticos y computacionales."
      ],
      "metadata": {
        "id": "vuKxDfgvWZyk"
      }
    }
  ]
}