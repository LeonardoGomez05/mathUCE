{
  "nbformat": 4,
  "nbformat_minor": 0,
  "metadata": {
    "colab": {
      "provenance": [],
      "toc_visible": true
    },
    "kernelspec": {
      "name": "python3",
      "display_name": "Python 3"
    },
    "language_info": {
      "name": "python"
    }
  },
  "cells": [
    {
      "cell_type": "markdown",
      "source": [
        "# **Algoritmos de programación** 🖥️📋\n",
        "\n",
        "Los algoritmos de programación son un conjunto de instrucciones ordenadas y estructuradas que permiten a una computadora realizar una tarea específica.\n",
        "\n",
        "## **Características de un algoritmo** 🛠️\n",
        "\n",
        "### **_Claridad y precisión_** 📏\n",
        "El algoritmo debe ser claro y sin ambigüedades. Cada uno de sus pasos o acciones debe definirse con precisión y ser claro en todos los aspectos, teniendo inequívocamente un solo significado.\n",
        "\n",
        "### **_Entradas bien definidas_** 📥\n",
        "Un algoritmo tiene cero o más entradas, tomadas de un conjunto específico de objetos. Si el algoritmo indica que se deben tomar datos de entrada, estos datos de entrada deben estar bien definidos.\n",
        "\n",
        "### **_Salidas bien definidas_** 📤\n",
        "El algoritmo tiene siempre una o más salidas, que tienen una relación con las entradas. El algoritmo debe definir claramente qué informaciones de salida se producirán y también deben estar bien definidas.\n",
        "\n",
        "### **_Finitud_** 🏁\n",
        "El algoritmo debe ser finito, es decir, siempre debe terminar en algún momento, después de un número finito de pasos, y no quedarse enganchado en bucles infinitos u otros problemas similares.\n",
        "\n",
        "### **_Factible_** 🧩\n",
        "El algoritmo debe ser hábil y sencillo, de tal manera que pueda ejecutarse sin problema con los recursos disponibles. No debe depender de tecnologías futuras.\n",
        "\n",
        "### **_Independencia del lenguaje_** 🌐\n",
        "El algoritmo diseñado debe ser independiente del lenguaje, compuesto solo por instrucciones simples que se puedan implementar en cualquier lenguaje de programación y produzca siempre el mismo resultado esperado.\n",
        "\n",
        "### **_Programas eficientes_** ⚡\n",
        "Siempre existen diferentes formas de realizar una operación específica dentro de un programa. Por tanto, los programadores buscan crear los algoritmos más eficientes posibles.\n",
        "\n",
        "Con el uso de algoritmos muy eficientes, se garantiza que los programas se ejecuten rápidamente utilizando un mínimo de recursos del sistema. Los programadores continuamente mejoran los algoritmos para incluirlos en futuras actualizaciones de software.\n",
        "\n",
        "**¿Cómo Funcionan los Algoritmos de Programación?** 🔄\n",
        "\n",
        "Estos algoritmos toman un conjunto de datos de entrada, los procesan y producen un conjunto de datos de salida. El procesamiento se realiza utilizando una serie de pasos definidos, que se pueden representar como diagramas de flujo o pseudocódigo para facilitar la comprensión del programador."
      ],
      "metadata": {
        "id": "TVYK_sNUmWhP"
      }
    },
    {
      "cell_type": "markdown",
      "source": [
        "## **Diagrama de flujo**\n",
        "![Texto alternativo](https://milformatos.com/wp-content/uploads/2021/11/Diagrama-de-Flujo-Simb.jpg)"
      ],
      "metadata": {
        "id": "8L-pHuprmY2X"
      }
    },
    {
      "cell_type": "markdown",
      "source": [
        "## **Pseudocódigo**\n",
        "\n",
        "El pseudocódigo es otra forma de expresar un algoritmo. Esto es una mezcla de texto y código que se puede comprender y escribir a mano. Esto hace que sea más fácil para los programadores entender cómo funciona un algoritmo sin tener que escribir código real.\n",
        "\n",
        "***Ejemplo:***\n",
        "\n",
        "Este es un pseudocódigo para calcular el área de un círculo:\n",
        "\n",
        "\n",
        "Inicio\n",
        "\n",
        "    // Definir el valor de pi\n",
        "    pi := 3.14159\n",
        "\n",
        "    // Solicitar al usuario el radio del círculo\n",
        "    Escribir \"Ingrese el radio del círculo:\"\n",
        "    Leer radio\n",
        "\n",
        "    // Calcular el área del círculo\n",
        "    area := pi * radio * radio\n",
        "\n",
        "    // Mostrar el resultado\n",
        "    Escribir \"El área del círculo es:\", area\n",
        "Fin\n",
        "\n",
        "## **Tipos de Algoritmos en Programación** 🖥️\n",
        "\n",
        "***Algoritmos secuenciales*** 🔄\n",
        "\n",
        "Los algoritmos secuenciales son los más comunes y se ejecutan en el orden en que se han escrito. Esto significa que cada línea de código se debe ejecutar en orden. Dichos algoritmos se utilizan para realizar tareas que se pueden hacer con instrucciones paso a paso.\n",
        "\n",
        "***Algoritmos de búsqueda*** 🔍\n",
        "\n",
        "Los algoritmos de búsqueda son aquellos que buscan un conjunto de datos para encontrar un valor específico. Estos algoritmos se usan ampliamente en aplicaciones como sistemas de información, base de datos y sistemas de recuperación de información.\n",
        "\n",
        "***Algoritmos de ordenamiento*** 📊\n",
        "\n",
        "Los algoritmos de ordenamiento se usan para ordenar un conjunto de datos de acuerdo con algunos criterios. Se utilizan en muchas aplicaciones, como los motores de búsqueda en línea.\n",
        "\n",
        "***Algoritmos recursivos*** 🔁\n",
        "\n",
        "Los algoritmos recursivos son aquellos que se ejecutan de forma repetida. Se utilizan a menudo para realizar tareas complejas, como la búsqueda de patrones en grandes conjuntos de datos.\n",
        "\n",
        "Estos algoritmos son útiles para realizar tareas complejas, como el análisis de datos y la optimización de procesos.\n",
        "\n",
        "***Algoritmos paralelos*** 🚀\n",
        "\n",
        "Los algoritmos paralelos permiten a los desarrolladores dividir una tarea compleja en diferentes partes y ejecutar cada una de ellas en un procesador diferente. Esto permite optimizar el rendimiento y reducir el tiempo de ejecución. Son muy útiles para tareas como el análisis de datos de gran tamaño.\n",
        "\n",
        "**Ventajas y Desventajas de los Algoritmos** 📈📉\n",
        "\n",
        "***Ventajas:***\n",
        "- Los algoritmos de programación permiten procesar una gran cantidad de datos de manera eficiente.\n",
        "- Ayudan a reducir el tiempo de desarrollo al automatizar ciertas tareas.\n",
        "- Son útiles para encontrar patrones y soluciones a problemas complejos.\n",
        "\n",
        "***Desventajas:***\n",
        "- Pueden ser difíciles de comprender si no se explican adecuadamente.\n",
        "- Si no se implementan correctamente, pueden llevar a resultados incorrectos.\n",
        "- Pueden ser complicados de diseñar y depurar debido a su naturaleza compleja.\n",
        "\n",
        "## **Ejemplos Prácticos** 🖥️📊\n",
        "\n",
        "Los algoritmos de programación tienen infinitas aplicaciones en el mundo real. A continuación se presentan algunos ejemplos prácticos:\n",
        "\n",
        "***Algoritmo de búsqueda*** 🔍\n",
        "\n",
        "Los algoritmos de búsqueda se utilizan para buscar datos en una lista o un conjunto de datos. Uno de los ejemplos más comunes de estos algoritmos es el algoritmo de búsqueda binaria. El algoritmo de búsqueda binaria es un algoritmo de búsqueda eficiente que busca un elemento en una lista ordenada. Este algoritmo divide la lista por la mitad en cada paso y, por lo tanto, reduce el tiempo de búsqueda significativamente.\n",
        "\n",
        "***Algoritmo de ordenación*** 📊\n",
        "\n",
        "Los algoritmos de ordenación se usan para ordenar una lista de elementos. Los ejemplos más comunes de algoritmos de ordenación son el algoritmo de ordenación por selección, el algoritmo de ordenación por inserción y el algoritmo de ordenación por burbuja. Estos algoritmos se pueden usar para ordenar una lista de números, palabras o cualquier otro conjunto de elementos.\n",
        "\n",
        "***Algoritmo de recorrido de árboles*** 🌳\n",
        "\n",
        "Los algoritmos de recorrido de árboles se utilizan para recorrer un árbol. Los algoritmos de recorrido de árboles más comunes son el recorrido en preorden, el recorrido en postorden y el recorrido en anchura. Estos algoritmos son esenciales para el procesamiento de datos en un árbol. Por ejemplo, se pueden usar para encontrar caminos en un árbol o para encontrar la solución óptima a un problema.\n",
        "\n",
        "***Algoritmos de búsqueda de patrones*** 🔍✨\n",
        "\n",
        "Los algoritmos de búsqueda de patrones se utilizan para encontrar patrones dentro de un conjunto de datos. Los algoritmos de búsqueda de patrones más comunes son los algoritmos de búsqueda de cadenas, los algoritmos de búsqueda de árboles y los algoritmos de búsqueda de grafos. Estos algoritmos se utilizan en muchos campos, desde la biología hasta la seguridad informática.\n",
        "\n",
        "***Algoritmos de recomendación*** 🎵💡\n",
        "\n",
        "Los algoritmos de recomendación se utilizan para recomendar contenido a un usuario en función de su historial de uso. Estos algoritmos se utilizan en muchas aplicaciones, como sitios web de redes sociales, reproductores de música y motores de búsqueda. Los algoritmos de recomendación más comunes son los algoritmos basados en contenido.\n",
        "\n",
        "## **La estructura E/P/S (Entrada/Proceso/Salida)**\n",
        "\n",
        "La estructura E/P/S es fundamental en programación y diseño de algoritmos, organizando el proceso en tres partes clave:\n",
        "\n",
        "***Entrada (E):***\n",
        "\n",
        "La fase de entrada recolecta datos necesarios para el procesamiento, desde usuarios, archivos externos, bases de datos u otros sistemas.\n",
        "\n",
        "***Proceso (P):***\n",
        "\n",
        "Aquí se manipulan, calculan o transforman los datos según las reglas del algoritmo, utilizando operaciones lógicas, matemáticas y de comparación.\n",
        "\n",
        "***Salida (S):***\n",
        "\n",
        "Esta fase devuelve los resultados procesados del algoritmo, como datos numéricos, mensajes, gráficos o archivos generados.\n",
        "\n",
        "**Ejemplo Detallado de E/P/S: Cálculo del Salario Neto**\n",
        "\n",
        "***Entrada (E):***\n",
        "\n",
        "Datos necesarios para calcular el salario neto:\n",
        "- Salario base del empleado.\n",
        "- Porcentaje de impuestos a deducir.\n",
        "- Otras deducciones, como contribuciones de seguro médico u otros beneficios.\n",
        "\n",
        "***Proceso (P):***\n",
        "\n",
        "Calcular el salario neto:\n",
        "- Calcular el monto de impuestos a deducir basado en el porcentaje proporcionado.\n",
        "- Restar las otras deducciones del salario base.\n",
        "- Calcular el salario neto restando las deducciones del salario base.\n",
        "\n",
        "***Salida (S):***\n",
        "\n",
        "Mostrar el salario neto calculado después de todas las deducciones.\n",
        "\n",
        "## **Pseudocódigo**\n",
        "E:\n",
        "- Ingresar el salario base del empleado.\n",
        "- Ingresar el porcentaje de impuestos a deducir.\n",
        "- Ingresar otras deducciones, si las hay.\n",
        "\n",
        "P:\n",
        "- Calcular impuestos_deducir = salario_base * (porcentaje_impuestos / 100)\n",
        "- Calcular salario_neto = salario_base - impuestos_deducir - otras_deducciones\n",
        "\n",
        "S:\n",
        "- Mostrar el salario neto calculado.\n",
        "\n",
        "## **Ejemplo Python**\n"
      ],
      "metadata": {
        "id": "6QFb2LVYq_sP"
      }
    },
    {
      "cell_type": "code",
      "source": [
        "# Entrada (E)\n",
        "salario_base = float(input(\"Ingrese el salario base del empleado: \"))\n",
        "porcentaje_impuestos = float(input(\"Ingrese el porcentaje de impuestos a deducir (%): \"))\n",
        "otras_deducciones = float(input(\"Ingrese otras deducciones (si no hay, ingrese 0): \"))\n",
        "\n",
        "# Proceso (P)\n",
        "impuestos_deducir = salario_base * (porcentaje_impuestos / 100)\n",
        "salario_neto = salario_base - impuestos_deducir - otras_deducciones\n",
        "\n",
        "# Salida (S)\n",
        "print(f\"El salario neto del empleado después de impuestos y otras deducciones es: ${salario_neto:.2f}\")\n"
      ],
      "metadata": {
        "colab": {
          "base_uri": "https://localhost:8080/"
        },
        "id": "zJj-d8FuOOjE",
        "outputId": "d252130b-70de-4b73-ff49-dc2d781ae0d1"
      },
      "execution_count": null,
      "outputs": [
        {
          "output_type": "stream",
          "name": "stdout",
          "text": [
            "Ingrese el salario base del empleado: 2300\n",
            "Ingrese el porcentaje de impuestos a deducir (%): 15\n",
            "Ingrese otras deducciones (si no hay, ingrese 0): 0\n",
            "El salario neto del empleado después de impuestos y otras deducciones es: $1955.00\n"
          ]
        }
      ]
    },
    {
      "cell_type": "markdown",
      "source": [
        "En este ejemplo:\n",
        "\n",
        "**Entrada (E):** Se ingresan el salario base, el porcentaje de impuestos y otras deducciones.\n",
        "\n",
        "**Proceso (P):** Se calcula el impuesto a deducir, se restan las otras deducciones y se calcula el salario neto.\n",
        "\n",
        "**Salida (S):** Se muestra el salario neto calculado después de todas las deducciones.\n",
        "\n",
        "Este ejemplo muestra cómo la estructura E/P/S organiza el algoritmo de manera que cada parte (entrada, proceso y salida) esté claramente definida, facilitando tanto la comprensión como la implementación del algoritmo en cualquier lenguaje de programación.\n",
        "\n",
        "## **CÓDIGOS**"
      ],
      "metadata": {
        "id": "QfXonlubOd1I"
      }
    },
    {
      "cell_type": "code",
      "source": [
        "# Ejemplos Prácticos\n",
        "\n",
        "# Algoritmo de búsqueda: Búsqueda Binaria\n",
        "def busqueda_binaria(lista, objetivo):\n",
        "    \"\"\"\n",
        "    Realiza la búsqueda binaria en una lista ordenada para encontrar el objetivo.\n",
        "\n",
        "    Args:\n",
        "    - lista (list): Lista ordenada de elementos.\n",
        "    - objetivo: Elemento a buscar en la lista.\n",
        "\n",
        "    Returns:\n",
        "    - int: Índice del elemento objetivo en la lista, o -1 si no se encuentra.\n",
        "    \"\"\"\n",
        "    izquierda, derecha = 0, len(lista) - 1\n",
        "    while izquierda <= derecha:\n",
        "        medio = (izquierda + derecha) // 2\n",
        "        if lista[medio] == objetivo:\n",
        "            return medio\n",
        "        elif lista[medio] < objetivo:\n",
        "            izquierda = medio + 1\n",
        "        else:\n",
        "            derecha = medio - 1\n",
        "    return -1\n",
        "\n",
        "# Ejemplo de uso de búsqueda binaria\n",
        "lista_busqueda = [1, 3, 5, 7, 9, 11]\n",
        "objetivo_busqueda = 7\n",
        "indice = busqueda_binaria(lista_busqueda, objetivo_busqueda)\n",
        "print(f'El elemento {objetivo_busqueda} está en el índice {indice}.')\n"
      ],
      "metadata": {
        "colab": {
          "base_uri": "https://localhost:8080/"
        },
        "id": "3edM-QeCKvmS",
        "outputId": "049059d3-73b4-4ee8-be62-dff9e319a676"
      },
      "execution_count": null,
      "outputs": [
        {
          "output_type": "stream",
          "name": "stdout",
          "text": [
            "El elemento 7 está en el índice 3.\n"
          ]
        }
      ]
    },
    {
      "cell_type": "code",
      "source": [
        "# Algoritmo de ordenación: Ordenación por Burbuja\n",
        "def ordenacion_burbuja(lista):\n",
        "    \"\"\"\n",
        "    Ordena una lista utilizando el algoritmo de ordenación por burbuja.\n",
        "\n",
        "    Args:\n",
        "    - lista (list): Lista de elementos a ordenar.\n",
        "\n",
        "    Returns:\n",
        "    - list: Lista ordenada.\n",
        "    \"\"\"\n",
        "    n = len(lista)\n",
        "    for i in range(n):\n",
        "        for j in range(0, n-i-1):\n",
        "            if lista[j] > lista[j+1]:\n",
        "                lista[j], lista[j+1] = lista[j+1], lista[j]\n",
        "    return lista\n",
        "\n",
        "# Ejemplo de uso de ordenación por burbuja\n",
        "lista_ordenacion = [64, 34, 25, 12, 22, 11, 90]\n",
        "lista_ordenada = ordenacion_burbuja(lista_ordenacion)\n",
        "print(f'Lista ordenada por burbuja: {lista_ordenada}')"
      ],
      "metadata": {
        "colab": {
          "base_uri": "https://localhost:8080/"
        },
        "id": "Hu94cUZQLFLR",
        "outputId": "560fff9f-a07b-4838-b5b1-217a62e05854"
      },
      "execution_count": null,
      "outputs": [
        {
          "output_type": "stream",
          "name": "stdout",
          "text": [
            "Lista ordenada por burbuja: [11, 12, 22, 25, 34, 64, 90]\n"
          ]
        }
      ]
    },
    {
      "cell_type": "code",
      "source": [
        "# Algoritmo de recorrido de árboles: Recorrido en Preorden\n",
        "class Nodo:\n",
        "    def __init__(self, valor):\n",
        "        self.valor = valor\n",
        "        self.izquierda = None\n",
        "        self.derecha = None\n",
        "\n",
        "def recorrido_preorden(nodo):\n",
        "    \"\"\"\n",
        "    Realiza el recorrido en preorden de un árbol.\n",
        "\n",
        "    Args:\n",
        "    - nodo (Nodo): Nodo raíz del árbol.\n",
        "\n",
        "    Returns:\n",
        "    - list: Lista con los valores en preorden.\n",
        "    \"\"\"\n",
        "    resultado = []\n",
        "    if nodo:\n",
        "        resultado.append(nodo.valor)\n",
        "        resultado.extend(recorrido_preorden(nodo.izquierda))\n",
        "        resultado.extend(recorrido_preorden(nodo.derecha))\n",
        "    return resultado\n",
        "\n",
        "# Ejemplo de uso de recorrido en preorden\n",
        "arbol = Nodo(1)\n",
        "arbol.izquierda = Nodo(2)\n",
        "arbol.derecha = Nodo(3)\n",
        "arbol.izquierda.izquierda = Nodo(4)\n",
        "arbol.izquierda.derecha = Nodo(5)\n",
        "print(f'Recorrido en preorden del árbol: {recorrido_preorden(arbol)}')"
      ],
      "metadata": {
        "colab": {
          "base_uri": "https://localhost:8080/"
        },
        "id": "iXqojljNLO8q",
        "outputId": "0305384b-8b11-4789-e888-a53f810eb071"
      },
      "execution_count": null,
      "outputs": [
        {
          "output_type": "stream",
          "name": "stdout",
          "text": [
            "Recorrido en preorden del árbol: [1, 2, 4, 5, 3]\n"
          ]
        }
      ]
    },
    {
      "cell_type": "code",
      "source": [
        "# Algoritmo de búsqueda de patrones: Búsqueda de Cadena\n",
        "def buscar_patron(texto, patron):\n",
        "    \"\"\"\n",
        "    Busca un patrón dentro de un texto utilizando el algoritmo de búsqueda de cadenas.\n",
        "\n",
        "    Args:\n",
        "    - texto (str): Texto en el que buscar.\n",
        "    - patron (str): Patrón a buscar en el texto.\n",
        "\n",
        "    Returns:\n",
        "    - bool: True si el patrón se encuentra en el texto, False de lo contrario.\n",
        "    \"\"\"\n",
        "    m = len(patron)\n",
        "    n = len(texto)\n",
        "    for i in range(n - m + 1):\n",
        "        j = 0\n",
        "        while j < m:\n",
        "            if texto[i + j] != patron[j]:\n",
        "                break\n",
        "            j += 1\n",
        "        if j == m:\n",
        "            return True\n",
        "    return False\n",
        "\n",
        "# Ejemplo de uso de búsqueda de cadena\n",
        "texto_busqueda = \"Este es un ejemplo de texto\"\n",
        "patron_busqueda = \"ejemplo\"\n",
        "encontrado = buscar_patron(texto_busqueda, patron_busqueda)\n",
        "print(f'¿Se encontró el patrón \"{patron_busqueda}\" en el texto? {encontrado}')"
      ],
      "metadata": {
        "colab": {
          "base_uri": "https://localhost:8080/"
        },
        "id": "3oBVvIynLgT5",
        "outputId": "468d0688-947d-4a50-ba80-5b61d4f0ce8e"
      },
      "execution_count": null,
      "outputs": [
        {
          "output_type": "stream",
          "name": "stdout",
          "text": [
            "¿Se encontró el patrón \"ejemplo\" en el texto? True\n"
          ]
        }
      ]
    },
    {
      "cell_type": "code",
      "source": [
        "# Algoritmo de recomendación: Recomendación Basada en Contenido\n",
        "from sklearn.feature_extraction.text import TfidfVectorizer\n",
        "from sklearn.metrics.pairwise import cosine_similarity\n",
        "\n",
        "# Ejemplo de uso de recomendación basada en contenido\n",
        "documentos = [\n",
        "    'Python es un lenguaje de programación',\n",
        "    'La inteligencia artificial utiliza algoritmos avanzados',\n",
        "    'Los algoritmos de búsqueda son útiles en muchos campos',\n",
        "    'Java es ampliamente utilizado en desarrollo de software'\n",
        "]\n",
        "\n",
        "tfidf_vectorizer = TfidfVectorizer()\n",
        "tfidf_matrix = tfidf_vectorizer.fit_transform(documentos)\n",
        "\n",
        "similarity_matrix = cosine_similarity(tfidf_matrix, tfidf_matrix)\n",
        "print(f'Matriz de similitud:\\n{similarity_matrix}')"
      ],
      "metadata": {
        "colab": {
          "base_uri": "https://localhost:8080/"
        },
        "id": "y47wYAIvLtA3",
        "outputId": "87400878-cee7-45f7-8f66-ad10492ecb19"
      },
      "execution_count": null,
      "outputs": [
        {
          "output_type": "stream",
          "name": "stdout",
          "text": [
            "Matriz de similitud:\n",
            "[[1.         0.         0.06568156 0.17792846]\n",
            " [0.         1.         0.09478259 0.        ]\n",
            " [0.06568156 0.09478259 1.         0.14425762]\n",
            " [0.17792846 0.         0.14425762 1.        ]]\n"
          ]
        }
      ]
    },
    {
      "cell_type": "markdown",
      "source": [
        "## **Programas**\n",
        "Para la creación de algoritmos, hay varias herramientas y entornos de desarrollo que son ampliamente utilizados por programadores y desarrolladores. Aquí te menciono algunos de los más populares:\n",
        "\n",
        "- **Python:** Es un lenguaje de programación muy utilizado para la implementación de algoritmos debido a su sintaxis clara y legible, amplia comunidad de soporte y bibliotecas especializadas en algoritmos y estructuras de datos.\n",
        "\n",
        "![Texto alternativo](https://logodownload.org/wp-content/uploads/2019/10/python-logo-2.png)\n",
        "\n",
        "- **Jupyter Notebook / Google Colab:** Son entornos interactivos de código abierto que permiten crear y compartir documentos que contienen código en vivo, ecuaciones, visualizaciones y explicaciones. Son ideales para prototipar y experimentar con algoritmos.\n",
        "\n",
        "![Texto alternativo](https://th.bing.com/th/id/OIP.laYIzRY2A-jpnBA2rO2jSQHaEj?rs=1&pid=ImgDetMain)\n",
        "\n",
        "- **Visual Studio Code (VS Code):** Es un editor de código ligero pero potente que soporta una variedad de lenguajes de programación y extensiones para facilitar el desarrollo y la depuración de algoritmos.\n",
        "\n",
        "![Texto alternativo](https://logospng.org/download/visual-studio-code/visual-studio-code-2048.png)\n",
        "\n",
        "- **Java:** Es otro lenguaje ampliamente utilizado para la implementación de algoritmos, especialmente en aplicaciones empresariales y de alto rendimiento.\n",
        "\n",
        "![Texto alternativo](https://static.vecteezy.com/system/resources/previews/022/100/214/original/java-logo-transparent-free-png.png)\n",
        "\n",
        "\n",
        "- **MATLAB:** Es un entorno de desarrollo numérico que facilita la creación de algoritmos y la manipulación de matrices, ideal para aplicaciones en ingeniería, ciencias y análisis de datos.\n",
        "\n",
        "![Texto alternativo](https://logos-world.net/wp-content/uploads/2020/12/MATLAB-Emblem.png)\n",
        "\n",
        "- **R:** Es un lenguaje de programación y entorno de software libre para computación estadística y gráficos, ampliamente utilizado en análisis de datos y desarrollo de algoritmos estadísticos.\n",
        "\n",
        "![Texto alternativo](https://i0.wp.com/mecabot-ula.org/wp-content/uploads/Rlogo.png?fit=800,700)\n",
        "\n",
        "- **C++:** Es un lenguaje de programación popular en el ámbito de la informática y las ciencias de la computación, conocido por su eficiencia y uso en algoritmos que requieren alto rendimiento.\n",
        "\n",
        "![Texto alternativo](https://www.pngitem.com/pimgs/m/403-4039114_c-logo-svg-hd-png-download.png)\n",
        "\n",
        "\n",
        "- **PSeInt:** Es un entorno de desarrollo integrado (IDE) para pseudocódigo y enseñanza de algoritmos. Está diseñado para ayudar en la planificación y diseño de programas, permitiendo a los usuarios aprender los conceptos básicos de la programación sin preocuparse por la sintaxis de un lenguaje de programación específico.\n",
        "\n",
        "![Texto alternativo](https://th.bing.com/th/id/R.13a263df755e27f09f485f0a6b49b2c9?rik=ZycTKeQQrPTMZw&riu=http%3a%2f%2f1.bp.blogspot.com%2f-hNJCWBOzKIs%2fU4_X1HJJouI%2fAAAAAAAAAR0%2fSvOwcMdpMeM%2fs1600%2fpseint-logo.png&ehk=Y1KbAkGXN5JDeVvtjGbug9noIBNIa1nek2OV1gVraF8%3d&risl=&pid=ImgRaw&r=0&sres=1&sresct=1)\n",
        "\n",
        "Estas herramientas y lenguajes son opciones comunes para la creación y implementación de algoritmos en diversos dominios y aplicaciones. La elección depende del tipo de algoritmo, el contexto de aplicación y las preferencias personales del desarrollador.\n",
        "\n",
        "\n",
        "### **Paradoja de la Información en la Teoría de Shannon** 📡💡\n",
        "\n",
        "![Texto alternativo](https://th.bing.com/th/id/OIP.iKP3BvnH4TgoViZoR5WuvwHaIM?rs=1&pid=ImgDetMain)\n",
        "\n",
        "**Claude Shannon (Padre de la teoría de la información)**\n",
        "1. **Contexto Teórico**\n",
        "   - Claude Shannon desarrolló la teoría de la información en la década de 1940, estableciendo fundamentos matemáticos para describir cómo se puede medir la información y cómo se puede transmitir eficientemente a través de canales de comunicación.\n",
        "\n",
        "2. **Capacidad del Canal** 📶\n",
        "   - La capacidad de un canal de comunicación se refiere a la máxima tasa de bits por segundo que se puede transmitir de manera confiable a través del canal sin errores significativos.\n",
        "\n",
        "3. **Paradoja Identificada** ❓\n",
        "   - Shannon observó que, a medida que aumenta la tasa de transmisión de información (bits por segundo), también aumenta la probabilidad de errores de transmisión. Esto se debe a la interferencia y el ruido inherente en los canales de comunicación.\n",
        "\n",
        "4. **Eficiencia y Tasa de Error** 🔄\n",
        "   - A mayores tasas de transmisión, es necesario utilizar técnicas más avanzadas para corregir errores (como códigos de corrección de errores). Sin embargo, estas técnicas pueden consumir parte de la capacidad del canal, lo que reduce la eficiencia global de la transmisión.\n",
        "\n",
        "5. **Balance y Optimización** ⚖️\n",
        "   - La paradoja radica en que, aunque aumentar la tasa de transmisión permite enviar más información en menos tiempo, también puede reducir la eficiencia del canal debido a la necesidad de redundancia para corregir errores. Esto plantea un dilema de optimización entre la velocidad de transmisión y la fiabilidad de la comunicación.\n",
        "\n",
        "En resumen, la paradoja de la información en la teoría de Shannon destaca el desafío fundamental de equilibrar la velocidad y la precisión en la transmisión de datos, revelando cómo aumentar la capacidad de un canal para transmitir información puede implicar compromisos en términos de eficiencia y calidad de la comunicación.\n"
      ],
      "metadata": {
        "id": "9_p1NEMlQTGZ"
      }
    },
    {
      "cell_type": "markdown",
      "source": [
        "# **Sistemas Numéricos**\n",
        "Los sistemas numéricos son un grupo de reglas, normas y convenios que nos permiten realizar una representación de todos los números naturales, por medio de un grupo amplio de símbolos básicos y que está definido por la base que utiliza.\n",
        "\n",
        "### **Sistema Decimal (Base 10):**\n",
        "- **Base:** Base 10, utiliza 10 símbolos (0-9).\n",
        "- **Representación:** Cada posición en un número decimal representa una potencia de 10.\n",
        "- **Ejemplo:** El número 325 en decimal se descompone como:\n",
        "  $3 \\times 10^2 + 2 \\times 10^1 + 5 \\times 10^0 = 300 + 20 + 5 = 325$\n",
        "\n",
        "### **Sistema Binario (Base 2):**\n",
        "- **Base:** Base 2, utiliza 2 símbolos (0 y 1).\n",
        "- **Representación:** Cada posición en un número binario representa una potencia de 2.\n",
        "- **Ejemplo:** El número binario 101 se convierte a decimal como:\n",
        "  $1 \\times 2^2 + 0 \\times 2^1 + 1 \\times 2^0 = 4 + 0 + 1 = 5$\n",
        "\n",
        "### **Sistema Octal (Base 8):**\n",
        "- **Base:** Base 8, utiliza 8 símbolos (0-7).\n",
        "- **Representación:** Cada posición en un número octal representa una potencia de 8.\n",
        "- **Ejemplo:** El número octal 34 se convierte a decimal como:\n",
        "  $3 \\times 8^1 + 4 \\times 8^0 = 24 + 4 = 28$\n",
        "\n",
        "### **Sistema Hexadecimal (Base 16)**:\n",
        "- **Base:** Base 16, utiliza 16 símbolos (0-9 y A-F para representar valores del 10 al 15).\n",
        "- **Representación:** Cada posición en un número hexadecimal representa una potencia de 16.\n",
        "- **Ejemplo:** El número hexadecimal 1A se convierte a decimal como:\n",
        "  $1 \\times 16^1 + A \\times 16^0 = 16 + 10 = 26$\n",
        "\n",
        "### **Conversiones entre sistemas numéricos:**\n",
        "- Las conversiones implican transformar un número de una base a otra, utilizando métodos como la división sucesiva o tablas de conversión.\n",
        "\n",
        "### **Aplicaciones en informática y electrónica:**\n",
        "- Los sistemas numéricos son fundamentales en la programación de computadoras y electrónica, donde el binario y el hexadecimal son comunes por su eficiencia en representación de datos."
      ],
      "metadata": {
        "id": "UfAzlLN9UM2e"
      }
    },
    {
      "cell_type": "markdown",
      "source": [
        "# **Referencias y Licencias** 🔍\n",
        "\n",
        "Este trabajo utiliza material del curso \"Matemáticas y Programación para Ciencias Sociales\" de FLACSO Ecuador.\n",
        "\n",
        "Pérez, F. (2024). Matemáticas y Programación para Ciencias Sociales. FLACSO Ecuador.\n",
        "- Repositorio GitHub: https://github.com/franperezec/math (Licencia MIT)\n",
        "- Canal de YouTube: https://www.youtube.com/channel/UCAGEJb2ofN1E99dc-WbPkBQ (CC BY 4.0)\n",
        "\n",
        "Al utilizar este material, acepto cumplir con los términos de las licencias MIT y Creative Commons BY 4.0 respectivamente.\n",
        "\n",
        "Para más detalles sobre las licencias o usos adicionales, consultar:\n",
        "- Licencia MIT: https://opensource.org/licenses/MIT\n",
        "- CC BY 4.0: https://creativecommons.org/licenses/by/4.0/deed.es"
      ],
      "metadata": {
        "id": "m5Fa9APrrZEC"
      }
    }
  ]
}